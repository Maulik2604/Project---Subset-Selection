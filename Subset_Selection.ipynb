{
  "nbformat": 4,
  "nbformat_minor": 0,
  "metadata": {
    "colab": {
      "provenance": [],
      "include_colab_link": true
    },
    "kernelspec": {
      "display_name": "Python 3",
      "language": "python",
      "name": "python3"
    },
    "language_info": {
      "codemirror_mode": {
        "name": "ipython",
        "version": 3
      },
      "file_extension": ".py",
      "mimetype": "text/x-python",
      "name": "python",
      "nbconvert_exporter": "python",
      "pygments_lexer": "ipython3",
      "version": "3.8.5"
    }
  },
  "cells": [
    {
      "cell_type": "markdown",
      "metadata": {
        "id": "view-in-github",
        "colab_type": "text"
      },
      "source": [
        "<a href=\"https://colab.research.google.com/github/Maulik2604/Project---Subset-Selection/blob/main/Subset_Selection.ipynb\" target=\"_parent\"><img src=\"https://colab.research.google.com/assets/colab-badge.svg\" alt=\"Open In Colab\"/></a>"
      ]
    },
    {
      "cell_type": "markdown",
      "source": [
        "Subset Selection"
      ],
      "metadata": {
        "id": "5C507mxzzE9n"
      }
    },
    {
      "cell_type": "markdown",
      "source": [
        "1. Problem Statement:-\n",
        "    Find all the subsets from a set of numbers whose sum is zero.\n",
        "\n",
        "    Constraint: Subset size must be 5\n",
        "\n",
        "    Set={12, 3, 6, -7, -2, 12, -6, -3, -9, 7, 5, 8,1,11, 9, 4}"
      ],
      "metadata": {
        "id": "gY_SImg8zKzh"
      }
    },
    {
      "cell_type": "code",
      "metadata": {
        "id": "cF_mSA9Xim1j"
      },
      "source": [
        "import random as r"
      ],
      "execution_count": null,
      "outputs": []
    },
    {
      "cell_type": "code",
      "metadata": {
        "id": "NHB2KMhZim1o"
      },
      "source": [
        "Set         = set([12, 3, 6, -7, -2, 12, -6, -3, -9, 7, 5, 8, -1, -11, 9, 4])\n",
        "SetSize     = 6\n",
        "ResultList  = set()\n",
        "Iterations  = 500"
      ],
      "execution_count": null,
      "outputs": []
    },
    {
      "cell_type": "code",
      "metadata": {
        "id": "veBU-f21im1x"
      },
      "source": [
        "for i in range(Iterations):\n",
        "    Chromosome = r.sample(Set,SetSize)\n",
        "if sum(Chromosome) == 0:\n",
        "        ResultList.add(tuple(Chromosome))"
      ],
      "execution_count": null,
      "outputs": []
    },
    {
      "cell_type": "code",
      "metadata": {
        "colab": {
          "base_uri": "https://localhost:8080/"
        },
        "id": "41abL1k-im10",
        "scrolled": true,
        "outputId": "a584e4b1-92ff-4050-e802-842b437c9f7d"
      },
      "source": [
        "for r in ResultList:\n",
        "\tprint (r)\n",
        "\n",
        "print (\"\\nTotal Sets: \", len(ResultList), \"\\n\")"
      ],
      "execution_count": null,
      "outputs": [
        {
          "output_type": "stream",
          "name": "stdout",
          "text": [
            "(6, -9, -3, 5, -6, 7)\n",
            "(8, -6, 4, 12, -7, -11)\n",
            "(-11, 5, -7, 8, 6, -1)\n",
            "(12, 8, -6, 4, -11, -7)\n",
            "(-1, -11, 6, 3, 9, -6)\n",
            "(-9, 12, 7, -7, 8, -11)\n",
            "(5, 8, -7, -6, -9, 9)\n",
            "(-9, 7, -11, 6, -2, 9)\n",
            "(12, -1, -2, -6, 6, -9)\n",
            "(6, -3, 5, 4, -11, -1)\n",
            "(-2, 8, -1, 9, -11, -3)\n",
            "(-6, -9, 8, 6, 12, -11)\n",
            "(3, -6, 6, -9, -2, 8)\n",
            "\n",
            "Total Sets:  13 \n",
            "\n"
          ]
        }
      ]
    }
  ]
}